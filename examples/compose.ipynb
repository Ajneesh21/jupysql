{
 "cells": [
  {
   "cell_type": "markdown",
   "id": "7919f126",
   "metadata": {},
   "source": [
    "# Composing large queries\n",
    "\n",
    "```{tip}\n",
    "Try this locally:\n",
    "\n",
    "~~~\n",
    "pip install k2s -U && k2s get ploomber/jupysql/master/examples/compose.ipynb\n",
    "~~~\n",
    "\n",
    "```\n",
    "\n",
    "\n",
    "```{dropdown} Required packages\n",
    "~~~\n",
    "pip install jupysql matplotlib\n",
    "~~~\n",
    "```\n",
    "\n",
    "\n",
    "*New in version 0.4.3*\n",
    "\n",
    "```{note}\n",
    "This is a beta feature, please [join our community](https://ploomber.io/community) and let us know how we can improve it!\n",
    "```\n",
    "\n",
    "JupySQL allows you to break queries into multiple cells, simplifying the process of building large queries.\n",
    "\n",
    "As an example, we are using a sales database from a record store. We'll find the artists that have produced the largest number of Rock and Metal songs.\n",
    "\n",
    "Let's load some data:"
   ]
  },
  {
   "cell_type": "code",
   "execution_count": null,
   "id": "1a1842b5",
   "metadata": {},
   "outputs": [],
   "source": [
    "import urllib.request\n",
    "from pathlib import Path\n",
    "from sqlite3 import connect\n",
    "\n",
    "if not Path('my.db').is_file():\n",
    "    url = \"https://raw.githubusercontent.com/lerocha/chinook-database/master/ChinookDatabase/DataSources/Chinook_Sqlite.sqlite\"\n",
    "    urllib.request.urlretrieve(url, 'my.db')"
   ]
  },
  {
   "cell_type": "markdown",
   "id": "251a0c1a",
   "metadata": {},
   "source": [
    "Initialize the extension and set `autolimit=3` so we only retrieve a few rows."
   ]
  },
  {
   "cell_type": "code",
   "execution_count": null,
   "id": "05a0bb70",
   "metadata": {},
   "outputs": [],
   "source": [
    "%load_ext sql"
   ]
  },
  {
   "cell_type": "code",
   "execution_count": null,
   "id": "810f2c82",
   "metadata": {},
   "outputs": [],
   "source": [
    "%config SqlMagic.autolimit = 3"
   ]
  },
  {
   "cell_type": "markdown",
   "id": "77f700ca",
   "metadata": {},
   "source": [
    "Let's see the track-level information:"
   ]
  },
  {
   "cell_type": "code",
   "execution_count": null,
   "id": "7ea40340",
   "metadata": {},
   "outputs": [],
   "source": [
    "%%sql sqlite:///my.db\n",
    "SELECT * FROM Track"
   ]
  },
  {
   "cell_type": "markdown",
   "id": "f4ca445a",
   "metadata": {},
   "source": [
    "Let's join track with album and artist to get the artist name and store the query using `--save tracks_with_info`.\n",
    "\n",
    "*Note: `--save` stores the query, not the data*"
   ]
  },
  {
   "cell_type": "code",
   "execution_count": null,
   "id": "2e139f50",
   "metadata": {},
   "outputs": [],
   "source": [
    "%%sql --save tracks_with_info\n",
    "SELECT t.*, a.title AS album, ar.Name as artist\n",
    "FROM Track t\n",
    "JOIN Album a\n",
    "USING (AlbumId)\n",
    "JOIN Artist ar\n",
    "USING (ArtistId)"
   ]
  },
  {
   "cell_type": "markdown",
   "id": "749169c7",
   "metadata": {},
   "source": [
    "Let's subset the genres we are interested in (Rock and Metal) and save the query."
   ]
  },
  {
   "cell_type": "code",
   "execution_count": null,
   "id": "4c7f9dde",
   "metadata": {},
   "outputs": [],
   "source": [
    "%%sql --save genres_fav\n",
    "SELECT * FROM Genre\n",
    "WHERE Name\n",
    "LIKE '%rock%'\n",
    "OR Name LIKE '%metal%' "
   ]
  },
  {
   "cell_type": "markdown",
   "id": "f0970689",
   "metadata": {},
   "source": [
    "Now, join genres and tracks, so we only get Rock and Metal tracks. \n",
    "\n",
    "Note that we are using `--with`; this will retrieve previously saved queries, and preprend them (using CTEs), then, we save the query in `track_fav` ."
   ]
  },
  {
   "cell_type": "code",
   "execution_count": null,
   "id": "8e0c06bb",
   "metadata": {},
   "outputs": [],
   "source": [
    "%%sql --with genres_fav --with tracks_with_info --save track_fav\n",
    "SELECT t.*\n",
    "FROM tracks_with_info t\n",
    "JOIN genres_fav\n",
    "ON t.GenreId = genres_fav.GenreId"
   ]
  },
  {
   "cell_type": "markdown",
   "id": "aac57888",
   "metadata": {},
   "source": [
    "We can now use `track_fav` (which contains Rock and Metal tracks). Let's find which artists have produced the most tracks (and save the query):"
   ]
  },
  {
   "cell_type": "code",
   "execution_count": null,
   "id": "1a69fc87",
   "metadata": {},
   "outputs": [],
   "source": [
    "%%sql --with track_fav --save top_artist\n",
    "SELECT artist, COUNT(*) FROM track_fav\n",
    "GROUP BY artist\n",
    "ORDER BY COUNT(*) DESC"
   ]
  },
  {
   "cell_type": "markdown",
   "id": "9c4f4368",
   "metadata": {},
   "source": [
    "Let's retrieve `top_artist` and plot the results:"
   ]
  },
  {
   "cell_type": "code",
   "execution_count": null,
   "id": "18cc27b3",
   "metadata": {},
   "outputs": [],
   "source": [
    "top_artist = %sql --with top_artist SELECT * FROM top_artist\n",
    "top_artist.bar()"
   ]
  },
  {
   "cell_type": "markdown",
   "id": "c358306f",
   "metadata": {},
   "source": [
    "We can render the full query with the `%sqlrender` magic:"
   ]
  },
  {
   "cell_type": "code",
   "execution_count": null,
   "id": "7758869b",
   "metadata": {},
   "outputs": [],
   "source": [
    "final = %sqlrender top_artist\n",
    "print(final)"
   ]
  },
  {
   "cell_type": "markdown",
   "id": "3b510a90",
   "metadata": {},
   "source": [
    "We can verify the retrieved query returns the same result:"
   ]
  },
  {
   "cell_type": "code",
   "execution_count": null,
   "id": "af4021d0",
   "metadata": {},
   "outputs": [],
   "source": [
    "%%sql\n",
    "$final"
   ]
  }
 ],
 "metadata": {
  "kernelspec": {
   "display_name": "Python 3 (ipykernel)",
   "language": "python",
   "name": "python3"
  }
 },
 "nbformat": 4,
 "nbformat_minor": 5
}
