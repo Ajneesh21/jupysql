{
 "cells": [
  {
   "cell_type": "markdown",
   "id": "f914bcd0",
   "metadata": {},
   "source": [
    "# Plotting large datasets\n",
    "\n",
    "\n",
    "```{dropdown} Required packages\n",
    "~~~\n",
    "pip install jupysql memory_profiler\n",
    "~~~\n",
    "```\n",
    "\n",
    "```{tip}\n",
    "Try this locally:\n",
    "\n",
    "~~~\n",
    "pip install k2s -U && k2s get ploomber/jupysql/master/examples/plot.ipynb\n",
    "~~~\n",
    "\n",
    "```\n",
    "\n",
    "\n",
    "*New in version 0.4.4*\n",
    "\n",
    "```{note}\n",
    "This is a beta feature, please [join our community](https://ploomber.io/community) and let us know what plots we should add next!\n",
    "```\n",
    "\n",
    "Using libraries like `matplotlib` or `seaborn`, requires fetching all the data locally, which quickly can fill up the memory in your machine. JupySQL runs computations in the warehouse/database to drastically reduce memory usage and runtime."
   ]
  },
  {
   "cell_type": "markdown",
   "id": "312959a8-b457-441e-8ab3-488ef677a9a9",
   "metadata": {},
   "source": [
    "As an example, we are using a sales database from a record store. We’ll find the artists that have produced the largest number of Rock and Metal songs.\n",
    "\n",
    "Let’s load some data:"
   ]
  },
  {
   "cell_type": "code",
   "execution_count": 1,
   "id": "4254b843-81b9-4127-914a-464025289ada",
   "metadata": {},
   "outputs": [],
   "source": [
    "import urllib.request\n",
    "from pathlib import Path\n",
    "from sqlite3 import connect\n",
    "\n",
    "if not Path('my.db').is_file():\n",
    "    url = \"https://raw.githubusercontent.com/lerocha/chinook-database/master/ChinookDatabase/DataSources/Chinook_Sqlite.sqlite\"\n",
    "    urllib.request.urlretrieve(url, 'my.db')"
   ]
  },
  {
   "cell_type": "markdown",
   "id": "9e05e3eb-cb26-4d88-bd12-24d9ec419978",
   "metadata": {},
   "source": [
    "Now, let's initialize the extension so we only retrieve a few rows."
   ]
  },
  {
   "cell_type": "code",
   "execution_count": 2,
   "id": "2802d077",
   "metadata": {},
   "outputs": [],
   "source": [
    "%load_ext autoreload\n",
    "%autoreload 2\n",
    "\n",
    "%load_ext sql\n",
    "%load_ext memory_profiler"
   ]
  },
  {
   "cell_type": "markdown",
   "id": "8c597c57-07d9-4a67-9e42-511ef212296d",
   "metadata": {},
   "source": [
    "We'll use `sqlite_scanner` extension to load a sample SQLite database into DuckDB:"
   ]
  },
  {
   "cell_type": "code",
   "execution_count": 3,
   "id": "3f793086-6fc1-44e8-a08e-895538fb3ae0",
   "metadata": {},
   "outputs": [
    {
     "name": "stdout",
     "output_type": "stream",
     "text": [
      "Done.\n",
      "Done.\n",
      "Done.\n"
     ]
    },
    {
     "data": {
      "text/html": [
       "<table>\n",
       "    <tr>\n",
       "        <th>Success</th>\n",
       "    </tr>\n",
       "</table>"
      ],
      "text/plain": [
       "[]"
      ]
     },
     "execution_count": 3,
     "metadata": {},
     "output_type": "execute_result"
    }
   ],
   "source": [
    "%%sql duckdb:///\n",
    "INSTALL 'sqlite_scanner';\n",
    "LOAD 'sqlite_scanner';\n",
    "CALL sqlite_attach('my.db');"
   ]
  },
  {
   "cell_type": "markdown",
   "id": "99a56f4a",
   "metadata": {},
   "source": [
    "We'll be using a sample dataset that contains information on music tracks:"
   ]
  },
  {
   "cell_type": "code",
   "execution_count": 4,
   "id": "e612d6cd",
   "metadata": {},
   "outputs": [
    {
     "name": "stdout",
     "output_type": "stream",
     "text": [
      " * duckdb:///\n",
      "Done.\n"
     ]
    },
    {
     "data": {
      "text/html": [
       "<table>\n",
       "    <tr>\n",
       "        <th>TrackId</th>\n",
       "        <th>Name</th>\n",
       "        <th>AlbumId</th>\n",
       "        <th>MediaTypeId</th>\n",
       "        <th>GenreId</th>\n",
       "        <th>Composer</th>\n",
       "        <th>Milliseconds</th>\n",
       "        <th>Bytes</th>\n",
       "        <th>UnitPrice</th>\n",
       "    </tr>\n",
       "    <tr>\n",
       "        <td>1</td>\n",
       "        <td>For Those About To Rock (We Salute You)</td>\n",
       "        <td>1</td>\n",
       "        <td>1</td>\n",
       "        <td>1</td>\n",
       "        <td>Angus Young, Malcolm Young, Brian Johnson</td>\n",
       "        <td>343719</td>\n",
       "        <td>11170334</td>\n",
       "        <td>0.99</td>\n",
       "    </tr>\n",
       "    <tr>\n",
       "        <td>2</td>\n",
       "        <td>Balls to the Wall</td>\n",
       "        <td>2</td>\n",
       "        <td>2</td>\n",
       "        <td>1</td>\n",
       "        <td>None</td>\n",
       "        <td>342562</td>\n",
       "        <td>5510424</td>\n",
       "        <td>0.99</td>\n",
       "    </tr>\n",
       "    <tr>\n",
       "        <td>3</td>\n",
       "        <td>Fast As a Shark</td>\n",
       "        <td>3</td>\n",
       "        <td>2</td>\n",
       "        <td>1</td>\n",
       "        <td>F. Baltes, S. Kaufman, U. Dirkscneider &amp; W. Hoffman</td>\n",
       "        <td>230619</td>\n",
       "        <td>3990994</td>\n",
       "        <td>0.99</td>\n",
       "    </tr>\n",
       "</table>"
      ],
      "text/plain": [
       "[(1, 'For Those About To Rock (We Salute You)', 1, 1, 1, 'Angus Young, Malcolm Young, Brian Johnson', 343719, 11170334, Decimal('0.99')),\n",
       " (2, 'Balls to the Wall', 2, 2, 1, None, 342562, 5510424, Decimal('0.99')),\n",
       " (3, 'Fast As a Shark', 3, 2, 1, 'F. Baltes, S. Kaufman, U. Dirkscneider & W. Hoffman', 230619, 3990994, Decimal('0.99'))]"
      ]
     },
     "execution_count": 4,
     "metadata": {},
     "output_type": "execute_result"
    }
   ],
   "source": [
    "%%sql\n",
    "SELECT * FROM \"Track\" LIMIT 3"
   ]
  },
  {
   "cell_type": "markdown",
   "id": "719cafec",
   "metadata": {},
   "source": [
    "The `Track` table contains 3503 rows:"
   ]
  },
  {
   "cell_type": "code",
   "execution_count": 5,
   "id": "568061bf",
   "metadata": {},
   "outputs": [
    {
     "name": "stdout",
     "output_type": "stream",
     "text": [
      " * duckdb:///\n",
      "Done.\n"
     ]
    },
    {
     "data": {
      "text/html": [
       "<table>\n",
       "    <tr>\n",
       "        <th>count_star()</th>\n",
       "    </tr>\n",
       "    <tr>\n",
       "        <td>3503</td>\n",
       "    </tr>\n",
       "</table>"
      ],
      "text/plain": [
       "[(3503,)]"
      ]
     },
     "execution_count": 5,
     "metadata": {},
     "output_type": "execute_result"
    }
   ],
   "source": [
    "%%sql\n",
    "SELECT COUNT(*) FROM \"Track\""
   ]
  },
  {
   "cell_type": "markdown",
   "id": "b76ffff0-be33-4dcd-8d8d-570676a67dfb",
   "metadata": {},
   "source": [
    "Since we want to test plotting capabilities with a large database, we are going to create a new table by appending the original databse multiple times.\n",
    "\n",
    "For this, we will proceed to create a SQL template script that we will use  along Python to create a database generator. The SQL template will perform a union between the database with itself less or equal than 500 times, because the [maximum number of terms in a compound SELECT statement is **500**](https://www.sqlite.org/limits.html). For our practical case, we will perform this union 5 times.\n",
    "\n",
    "With this, we will generate a table with ~17.5k rows, as we will see below.\n",
    "\n",
    "> We invite you to try with a higher number, **why not 450?** <br>\n",
    "> Just modify the range value from 5 to 450 in the next cell."
   ]
  },
  {
   "cell_type": "code",
   "execution_count": 6,
   "id": "8f8fbaae-7259-4063-a460-138b883a9281",
   "metadata": {},
   "outputs": [
    {
     "name": "stdout",
     "output_type": "stream",
     "text": [
      "Writing large-table-template.sql\n"
     ]
    }
   ],
   "source": [
    "%%writefile large-table-template.sql\n",
    "DROP TABLE IF EXISTS \"TrackAll\";\n",
    "\n",
    "CREATE TABLE \"TrackAll\" AS\n",
    "    {% for _ in range(5) %}\n",
    "        SELECT * FROM \"Track\"\n",
    "        {% if not loop.last %}\n",
    "        UNION ALL\n",
    "        {% endif %}\n",
    "    {% endfor %}\n",
    ";"
   ]
  },
  {
   "cell_type": "markdown",
   "id": "71a48de5-552a-42ca-9de5-15f6cfca8724",
   "metadata": {},
   "source": [
    "Now, the following Python script will use the SQL template script to generate a now script to create a big table from the database."
   ]
  },
  {
   "cell_type": "code",
   "execution_count": 7,
   "id": "1573f3cb-bdb4-4864-bb65-73a519975da1",
   "metadata": {},
   "outputs": [
    {
     "name": "stdout",
     "output_type": "stream",
     "text": [
      "Writing large-table-gen.py\n"
     ]
    }
   ],
   "source": [
    "%%writefile large-table-gen.py\n",
    "from pathlib import Path\n",
    "from jinja2 import Template\n",
    "\n",
    "t = Template(Path('large-table-template.sql').read_text())\n",
    "Path('large-table.sql').write_text(t.render())"
   ]
  },
  {
   "cell_type": "markdown",
   "id": "f19ad500-4938-4528-8f33-0c53559c5df7",
   "metadata": {},
   "source": [
    "We can now proceed to execute the Python generator. The Python script can be run using the magic command `%run <file.py>`. After it generates the SQL script, we execute it to create the new table. To execute the SQL script, we use the `--file` flag from from [JupySQL's options](https://jupysql.readthedocs.io/en/latest/options.html) along the `%sql` magic command."
   ]
  },
  {
   "cell_type": "code",
   "execution_count": 8,
   "id": "c53ef5cb-b7a3-47c6-9be3-2002ef7e334f",
   "metadata": {},
   "outputs": [
    {
     "name": "stdout",
     "output_type": "stream",
     "text": [
      " * duckdb:///\n",
      "Done.\n",
      "Done.\n"
     ]
    },
    {
     "data": {
      "text/html": [
       "<table>\n",
       "    <tr>\n",
       "        <th>Count</th>\n",
       "    </tr>\n",
       "    <tr>\n",
       "        <td>17515</td>\n",
       "    </tr>\n",
       "</table>"
      ],
      "text/plain": [
       "[(17515,)]"
      ]
     },
     "execution_count": 8,
     "metadata": {},
     "output_type": "execute_result"
    }
   ],
   "source": [
    "%run large-table-gen.py\n",
    "%sql --file large-table.sql"
   ]
  },
  {
   "cell_type": "markdown",
   "id": "05191397-1a88-4862-b806-73cf8435e30d",
   "metadata": {},
   "source": [
    "As we can see, the new table contains **~17.5k rows**."
   ]
  },
  {
   "cell_type": "markdown",
   "id": "348778e3",
   "metadata": {},
   "source": [
    "## Boxplot\n",
    "\n",
    "```{note}\n",
    "To use `plot.boxplot`, your SQL engine must support:\n",
    "\n",
    "`percentile_disc(...) WITHIN GROUP (ORDER BY ...)`\n",
    "\n",
    "[Snowflake](https://docs.snowflake.com/en/sql-reference/functions/percentile_disc.html),\n",
    "[Postgres](https://www.postgresql.org/docs/9.4/functions-aggregate.html),\n",
    "[DuckDB](https://duckdb.org/docs/sql/aggregates), and others support this.\n",
    "```"
   ]
  },
  {
   "cell_type": "code",
   "execution_count": 9,
   "id": "5b4d38e8",
   "metadata": {},
   "outputs": [],
   "source": [
    "from sql import plot\n",
    "import matplotlib.pyplot as plt\n",
    "plt.style.use('seaborn')"
   ]
  },
  {
   "cell_type": "code",
   "execution_count": 10,
   "id": "aef86f7c",
   "metadata": {},
   "outputs": [
    {
     "name": "stdout",
     "output_type": "stream",
     "text": [
      "peak memory: 167.27 MiB, increment: 3.16 MiB\n"
     ]
    },
    {
     "data": {
      "image/png": "[encoded data removed]",
      "text/plain": [
       "<Figure size 800x550 with 1 Axes>"
      ]
     },
     "metadata": {},
     "output_type": "display_data"
    }
   ],
   "source": [
    "%%memit\n",
    "plot.boxplot('TrackAll', 'Milliseconds')"
   ]
  },
  {
   "cell_type": "markdown",
   "id": "b84a8507",
   "metadata": {},
   "source": [
    "Note that the plot consumes only a few MiB of memory (increment), since most of the processing happens in the SQL engine. Furthermore, you'll also see big performance improvements if using a warehouse like Snowflake, Redshift or BigQuery, since they can process large amounts of data efficiently."
   ]
  },
  {
   "cell_type": "markdown",
   "id": "11b34601",
   "metadata": {},
   "source": [
    "## Histogram"
   ]
  },
  {
   "cell_type": "code",
   "execution_count": 11,
   "id": "6fde3f46",
   "metadata": {},
   "outputs": [
    {
     "name": "stdout",
     "output_type": "stream",
     "text": [
      "peak memory: 174.28 MiB, increment: 0.88 MiB\n"
     ]
    },
    {
     "data": {
      "image/png": "[encoded data removed]",
      "text/plain": [
       "<Figure size 800x550 with 1 Axes>"
      ]
     },
     "metadata": {},
     "output_type": "display_data"
    }
   ],
   "source": [
    "%%memit\n",
    "plot.histogram('TrackAll', 'Milliseconds', bins=50)"
   ]
  },
  {
   "cell_type": "markdown",
   "id": "3003ee5c",
   "metadata": {},
   "source": [
    "## Benchmark\n",
    "\n",
    "For comparison, let's see what happens if we compute locally:"
   ]
  },
  {
   "cell_type": "code",
   "execution_count": 12,
   "id": "86425c51",
   "metadata": {},
   "outputs": [],
   "source": [
    "from IPython import get_ipython\n",
    "\n",
    "def fetch_data():\n",
    "    \"\"\"\n",
    "    Only needed to enable %%memit, this is the same as doing\n",
    "    res = %sql SELECT \"Milliseconds\" FROM \"TrackAll\"\n",
    "    \"\"\"\n",
    "    ip = get_ipython()\n",
    "    return ip.run_line_magic('sql', 'SELECT \"Milliseconds\" FROM \"TrackAll\"')"
   ]
  },
  {
   "cell_type": "markdown",
   "id": "58266a56",
   "metadata": {},
   "source": [
    "Fetching data consumes a lot of memory:"
   ]
  },
  {
   "cell_type": "code",
   "execution_count": 13,
   "id": "2c1f6984",
   "metadata": {},
   "outputs": [
    {
     "name": "stdout",
     "output_type": "stream",
     "text": [
      " * duckdb:///\n",
      "Done.\n",
      " * duckdb:///\n",
      "Done.\n",
      " * duckdb:///\n",
      "Done.\n",
      "peak memory: 183.20 MiB, increment: 5.05 MiB\n"
     ]
    }
   ],
   "source": [
    "%%memit\n",
    "res = fetch_data()"
   ]
  },
  {
   "cell_type": "markdown",
   "id": "57b8dbc0",
   "metadata": {},
   "source": [
    "Plotting functions also increase memory usage:"
   ]
  },
  {
   "cell_type": "code",
   "execution_count": 14,
   "id": "b1dd44e7",
   "metadata": {},
   "outputs": [
    {
     "name": "stdout",
     "output_type": "stream",
     "text": [
      "peak memory: 176.64 MiB, increment: 2.86 MiB\n"
     ]
    },
    {
     "data": {
      "image/png": "[encoded data removed]",
      "text/plain": [
       "<Figure size 800x550 with 1 Axes>"
      ]
     },
     "metadata": {},
     "output_type": "display_data"
    }
   ],
   "source": [
    "%%memit\n",
    "_ = plt.boxplot(res.DataFrame().Milliseconds)"
   ]
  },
  {
   "cell_type": "code",
   "execution_count": 15,
   "id": "386e6d2b",
   "metadata": {},
   "outputs": [
    {
     "name": "stdout",
     "output_type": "stream",
     "text": [
      "peak memory: 183.03 MiB, increment: 1.56 MiB\n"
     ]
    },
    {
     "data": {
      "image/png": "[encoded data removed]",
      "text/plain": [
       "<Figure size 800x550 with 1 Axes>"
      ]
     },
     "metadata": {},
     "output_type": "display_data"
    }
   ],
   "source": [
    "%%memit\n",
    "_ = plt.hist(res.DataFrame().Milliseconds, bins=50)"
   ]
  },
  {
   "cell_type": "markdown",
   "id": "b5e107df",
   "metadata": {},
   "source": [
    "The memory consumption is a lot higher!"
   ]
  }
 ],
 "metadata": {
  "kernelspec": {
   "display_name": "Python 3 (ipykernel)",
   "language": "python",
   "name": "python3"
  },
  "language_info": {
   "codemirror_mode": {
    "name": "ipython",
    "version": 3
   },
   "file_extension": ".py",
   "mimetype": "text/x-python",
   "name": "python",
   "nbconvert_exporter": "python",
   "pygments_lexer": "ipython3",
   "version": "3.9.13"
  }
 },
 "nbformat": 4,
 "nbformat_minor": 5
}
