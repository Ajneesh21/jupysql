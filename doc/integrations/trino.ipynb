{
 "cells": [
  {
   "cell_type": "code",
   "execution_count": 3,
   "id": "b9e61bb5-5048-481e-8aae-f495187313ef",
   "metadata": {
    "tags": []
   },
   "outputs": [
    {
     "name": "stdout",
     "output_type": "stream",
     "text": [
      "92f6a0d266ce28e86e53b896c11596e024b6b12ffc84646b5336e1e9c4f12957\n"
     ]
    }
   ],
   "source": [
    "%%bash\n",
    "docker run --detach --name trino \\\n",
    "    -p 8080:8080 trinodb/trino"
   ]
  },
  {
   "cell_type": "code",
   "execution_count": 4,
   "id": "3f0b8331-78ba-46ec-99b8-b6c9d713dca9",
   "metadata": {
    "tags": []
   },
   "outputs": [
    {
     "name": "stdout",
     "output_type": "stream",
     "text": [
      "CONTAINER ID   IMAGE           COMMAND                  CREATED        STATUS                                     PORTS                    NAMES\n",
      "92f6a0d266ce   trinodb/trino   \"/usr/lib/trino/bin/…\"   1 second ago   Up Less than a second (health: starting)   0.0.0.0:8080->8080/tcp   trino\n"
     ]
    }
   ],
   "source": [
    "%%bash\n",
    "docker ps"
   ]
  },
  {
   "cell_type": "code",
   "execution_count": 5,
   "id": "c63e154b-aaa4-42b2-8778-28bbb8ea98f1",
   "metadata": {
    "tags": []
   },
   "outputs": [
    {
     "name": "stdout",
     "output_type": "stream",
     "text": [
      "Note: you may need to restart the kernel to use updated packages.\n"
     ]
    }
   ],
   "source": [
    "%pip install \"trino[sqlalchemy]\" --quiet"
   ]
  },
  {
   "cell_type": "code",
   "execution_count": 6,
   "id": "09674b1f-ad27-451e-84c2-270d92ace31e",
   "metadata": {
    "tags": []
   },
   "outputs": [],
   "source": [
    "%load_ext sql"
   ]
  },
  {
   "cell_type": "code",
   "execution_count": 8,
   "id": "bc2f5326-011e-4560-a256-5fd9d5060085",
   "metadata": {
    "tags": []
   },
   "outputs": [],
   "source": [
    "# %sql trino://localhost:8080/<catalog>/<schema>"
   ]
  },
  {
   "cell_type": "code",
   "execution_count": 9,
   "id": "29f787b3-1ecf-477e-af50-9c36740fb06e",
   "metadata": {
    "tags": []
   },
   "outputs": [],
   "source": [
    "%sql trino://user@localhost:8080/system"
   ]
  },
  {
   "cell_type": "code",
   "execution_count": 13,
   "id": "d5e69e81-8925-4577-8023-78a997cde39d",
   "metadata": {
    "tags": []
   },
   "outputs": [
    {
     "name": "stdout",
     "output_type": "stream",
     "text": [
      "*  trino://user@localhost:8080/system\n",
      "(trino.exceptions.TrinoUserError) TrinoUserError(type=USER_ERROR, name=SYNTAX_ERROR, message=\"line 1:15: mismatched input ''a.parquet''. Expecting: '(', 'LATERAL', 'TABLE', 'UNNEST', <identifier>\", query_id=20230304_043355_00006_6e5ci)\n",
      "[SQL: SELECT * FROM 'a.parquet']\n",
      "(Background on this error at: https://sqlalche.me/e/14/f405)\n"
     ]
    }
   ],
   "source": [
    "%%sql\n",
    "SELECT * FROM 'a.parquet'"
   ]
  },
  {
   "cell_type": "code",
   "execution_count": 16,
   "id": "d39c3264-ddac-46a5-bdff-bb941adfae55",
   "metadata": {
    "tags": []
   },
   "outputs": [
    {
     "name": "stdout",
     "output_type": "stream",
     "text": [
      "*  trino://user@localhost:8080/system\n",
      "(trino.exceptions.TrinoUserError) TrinoUserError(type=USER_ERROR, name=NOT_IN_TRANSACTION, message=\"No transaction in progress\", query_id=20230304_043648_00010_6e5ci)\n",
      "[SQL: commit]\n",
      "(Background on this error at: https://sqlalche.me/e/14/f405)\n"
     ]
    }
   ],
   "source": [
    "%%sql\n",
    "select count(*) from tpch.sf1.nation"
   ]
  },
  {
   "cell_type": "code",
   "execution_count": null,
   "id": "34a70c32-2b52-46ca-bf99-497daf7d7e8a",
   "metadata": {},
   "outputs": [],
   "source": []
  }
 ],
 "metadata": {
  "kernelspec": {
   "display_name": "Python 3 (ipykernel)",
   "language": "python",
   "name": "python3"
  },
  "language_info": {
   "codemirror_mode": {
    "name": "ipython",
    "version": 3
   },
   "file_extension": ".py",
   "mimetype": "text/x-python",
   "name": "python",
   "nbconvert_exporter": "python",
   "pygments_lexer": "ipython3",
   "version": "3.9.16"
  }
 },
 "nbformat": 4,
 "nbformat_minor": 5
}
